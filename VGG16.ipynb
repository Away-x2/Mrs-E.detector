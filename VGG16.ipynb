{
 "cells": [
  {
   "cell_type": "code",
   "execution_count": 14,
   "id": "619fa43c-8d52-441f-a6ae-49cd2fd80178",
   "metadata": {
    "id": "619fa43c-8d52-441f-a6ae-49cd2fd80178"
   },
   "outputs": [],
   "source": [
    "from tensorflow.keras.applications import VGG16\n",
    "from tensorflow.keras.models import Model\n",
    "from tensorflow.keras.layers import Dense, Flatten\n",
    "from tensorflow.keras.preprocessing.image import ImageDataGenerator\n",
    "import os\n",
    "import matplotlib.pyplot as plt\n",
    "import random\n",
    "import shutil"
   ]
  },
  {
   "cell_type": "code",
   "execution_count": 10,
   "id": "0x935nFEYnzo",
   "metadata": {
    "colab": {
     "base_uri": "https://localhost:8080/"
    },
    "id": "0x935nFEYnzo",
    "outputId": "f11e0248-c33a-483e-df3b-597a0a86e951"
   },
   "outputs": [
    {
     "name": "stdout",
     "output_type": "stream",
     "text": [
      "Drive already mounted at /content/drive; to attempt to forcibly remount, call drive.mount(\"/content/drive\", force_remount=True).\n"
     ]
    }
   ],
   "source": [
    "from google.colab import drive\n",
    "drive.mount('/content/drive')"
   ]
  },
  {
   "cell_type": "code",
   "execution_count": 3,
   "id": "b67eaae8-cb83-4e9e-b100-c585609ce36f",
   "metadata": {
    "colab": {
     "base_uri": "https://localhost:8080/"
    },
    "id": "b67eaae8-cb83-4e9e-b100-c585609ce36f",
    "outputId": "24316571-ccf3-42d9-a282-20d6f19a237e"
   },
   "outputs": [
    {
     "name": "stdout",
     "output_type": "stream",
     "text": [
      "Downloading data from https://storage.googleapis.com/tensorflow/keras-applications/vgg16/vgg16_weights_tf_dim_ordering_tf_kernels_notop.h5\n",
      "58889256/58889256 [==============================] - 0s 0us/step\n"
     ]
    }
   ],
   "source": [
    "# Load the VGG16 model with pre-trained weights\n",
    "base_model = VGG16(weights='imagenet', include_top=False, input_shape=(224, 224, 3))\n"
   ]
  },
  {
   "cell_type": "code",
   "execution_count": 4,
   "id": "2232f711-b308-49f3-8570-1b217fdb9da4",
   "metadata": {
    "id": "2232f711-b308-49f3-8570-1b217fdb9da4"
   },
   "outputs": [],
   "source": [
    "# Freeze the pre-trained layers\n",
    "for layer in base_model.layers:\n",
    "    layer.trainable = False"
   ]
  },
  {
   "cell_type": "code",
   "execution_count": 5,
   "id": "76c7b96d-b9f8-4f31-a4c5-c7dd562bed76",
   "metadata": {
    "id": "76c7b96d-b9f8-4f31-a4c5-c7dd562bed76"
   },
   "outputs": [],
   "source": [
    "# Add custom classification layers on top\n",
    "x = Flatten()(base_model.output)\n",
    "x = Dense(256, activation='relu')(x)\n",
    "predictions = Dense(7, activation='softmax')(x)\n",
    "\n",
    "model = Model(inputs=base_model.input, outputs=predictions)"
   ]
  },
  {
   "cell_type": "code",
   "execution_count": 6,
   "id": "fa661ec9-0226-49dd-b6c6-208bd7328e90",
   "metadata": {
    "id": "fa661ec9-0226-49dd-b6c6-208bd7328e90"
   },
   "outputs": [],
   "source": [
    "model.compile(optimizer='adam', loss='categorical_crossentropy', metrics=['accuracy'])\n"
   ]
  },
  {
   "cell_type": "code",
   "execution_count": 15,
   "id": "Un_vOlmwZvN4",
   "metadata": {
    "id": "Un_vOlmwZvN4"
   },
   "outputs": [],
   "source": [
    "def oversample_by_replication(base_path, threshold_class='happy'):\n",
    "\n",
    "    # Identify classes\n",
    "    classes = os.listdir(base_path)\n",
    "\n",
    "    # Find the maximum number of samples\n",
    "    max_samples = 0\n",
    "    for emotion in classes:\n",
    "        num_samples = len(os.listdir(os.path.join(base_path, emotion)))\n",
    "        max_samples = max(max_samples, num_samples)\n",
    "\n",
    "    # Calculate the threshold based on the 'happy' class\n",
    "    threshold = max_samples\n",
    "\n",
    "    # Replicate instances for each class\n",
    "    for emotion in classes:\n",
    "        source_path = os.path.join(base_path, emotion)\n",
    "        num_samples = len(os.listdir(source_path))\n",
    "\n",
    "        # Replicate instances until the threshold is reached\n",
    "        while num_samples < threshold:\n",
    "            # Randomly select an instance to replicate\n",
    "            random_instance = random.choice(os.listdir(source_path))\n",
    "\n",
    "            # Specify the destination path\n",
    "            destination_path = os.path.join(base_path, emotion, f'replica_{num_samples}.jpg')\n",
    "\n",
    "            # Copy the selected instance to the destination\n",
    "            shutil.copy(os.path.join(source_path, random_instance), destination_path)\n",
    "\n",
    "            num_samples += 1\n",
    "\n",
    "\n",
    "oversample_by_replication(train_dir)\n"
   ]
  },
  {
   "cell_type": "code",
   "execution_count": 16,
   "id": "67818f3f-eb7e-40cb-98f6-48cf64739009",
   "metadata": {
    "colab": {
     "base_uri": "https://localhost:8080/",
     "height": 487
    },
    "id": "67818f3f-eb7e-40cb-98f6-48cf64739009",
    "outputId": "0b00bc82-b832-44c9-b302-2906b2aac377"
   },
   "outputs": [
    {
     "data": {
      "image/png": "[encoded data removed]",
      "text/plain": [
       "<Figure size 1000x500 with 1 Axes>"
      ]
     },
     "metadata": {},
     "output_type": "display_data"
    }
   ],
   "source": [
    "# Data visualisation\n",
    "train_dir='/content/drive/MyDrive/archiveTL/train'\n",
    "emotions = os.listdir(train_dir)\n",
    "values = [len(os.listdir(f'/content/drive/MyDrive/archiveTL/train/{emotion}')) for emotion in emotions]\n",
    "fig = plt.figure(figsize = (10, 5))\n",
    "\n",
    "# creating the bar plot\n",
    "plt.bar(emotions, values, color ='purple',\n",
    "        width = 0.4)\n",
    "\n",
    "plt.xlabel(\"Emotions\")\n",
    "plt.ylabel(\"No. of images\")\n",
    "plt.title(\"Train dataset overview\")\n",
    "plt.show()"
   ]
  },
  {
   "cell_type": "code",
   "execution_count": 18,
   "id": "3a3977a6-e9b7-4218-936a-6928c5ca988e",
   "metadata": {
    "colab": {
     "base_uri": "https://localhost:8080/"
    },
    "id": "3a3977a6-e9b7-4218-936a-6928c5ca988e",
    "outputId": "e1e1a934-139f-45c1-83f2-58067ff3df64"
   },
   "outputs": [
    {
     "name": "stdout",
     "output_type": "stream",
     "text": [
      "Found 3159 images belonging to 7 classes.\n",
      "Found 2302 images belonging to 7 classes.\n"
     ]
    }
   ],
   "source": [
    "from tensorflow.keras.preprocessing.image import ImageDataGenerator\n",
    "\n",
    "# Set the path to your training data directory\n",
    "train_data_dir = '/content/drive/MyDrive/archiveTL/train'\n",
    "\n",
    "# Create an ImageDataGenerator for data augmentation\n",
    "train_datagen = ImageDataGenerator(\n",
    "    rescale=1./255,  # Normalize pixel values to be between 0 and 1\n",
    "    shear_range=0.2,  # Shear transformations\n",
    "    zoom_range=0.2,   # Random zoom\n",
    "    horizontal_flip=True,  # Randomly flip images horizontally\n",
    "    rotation_range=20,  # Random rotation\n",
    "    width_shift_range=0.2,  # Randomly shift images horizontally\n",
    "    height_shift_range=0.2,  # Randomly shift images vertically\n",
    "    fill_mode='nearest'  # Fill mode for points outside the input boundary\n",
    ")\n",
    "\n",
    "# Set the input size according to VGG16 requirements (224x224)\n",
    "img_size = (224, 224)\n",
    "\n",
    "# Create an ImageDataGenerator for the test set (only rescaling)\n",
    "test_datagen = ImageDataGenerator(rescale=1./255)\n",
    "\n",
    "# Specify batch size\n",
    "batch_size = 32\n",
    "\n",
    "# Create generators for training and validation data\n",
    "train_generator = train_datagen.flow_from_directory(\n",
    "    train_data_dir,\n",
    "    target_size=img_size,\n",
    "    batch_size=batch_size,\n",
    "    class_mode='categorical'  # Assuming you have categorical labels\n",
    ")\n",
    "\n",
    "# Set the path to your testing data directory\n",
    "test_data_dir = '/content/drive/MyDrive/archiveTL/test'\n",
    "\n",
    "# Create a generator for the test set\n",
    "test_generator = test_datagen.flow_from_directory(\n",
    "    test_data_dir,\n",
    "    target_size=img_size,\n",
    "    batch_size=batch_size,\n",
    "    class_mode='categorical'\n",
    ")"
   ]
  },
  {
   "cell_type": "code",
   "execution_count": 19,
   "id": "b5292796-c15b-4484-a338-a3b4def7e215",
   "metadata": {
    "colab": {
     "base_uri": "https://localhost:8080/"
    },
    "id": "b5292796-c15b-4484-a338-a3b4def7e215",
    "outputId": "ec2a3ba9-0d34-4cd5-cf0d-a736d356a33b"
   },
   "outputs": [
    {
     "name": "stdout",
     "output_type": "stream",
     "text": [
      "Epoch 1/20\n",
      "99/99 [==============================] - 578s 6s/step - loss: 2.2912 - accuracy: 0.2092 - val_loss: 1.8751 - val_accuracy: 0.2467\n",
      "Epoch 2/20\n",
      "99/99 [==============================] - 59s 597ms/step - loss: 1.8238 - accuracy: 0.2688 - val_loss: 1.7501 - val_accuracy: 0.3267\n",
      "Epoch 3/20\n",
      "99/99 [==============================] - 56s 562ms/step - loss: 1.7976 - accuracy: 0.2884 - val_loss: 1.8108 - val_accuracy: 0.2685\n",
      "Epoch 4/20\n",
      "99/99 [==============================] - 55s 560ms/step - loss: 1.7063 - accuracy: 0.3378 - val_loss: 1.6920 - val_accuracy: 0.3467\n",
      "Epoch 5/20\n",
      "99/99 [==============================] - 57s 578ms/step - loss: 1.6955 - accuracy: 0.3412 - val_loss: 1.6324 - val_accuracy: 0.3705\n",
      "Epoch 6/20\n",
      "99/99 [==============================] - 56s 561ms/step - loss: 1.6758 - accuracy: 0.3498 - val_loss: 1.7086 - val_accuracy: 0.3315\n",
      "Epoch 7/20\n",
      "99/99 [==============================] - 57s 568ms/step - loss: 1.6358 - accuracy: 0.3656 - val_loss: 1.6647 - val_accuracy: 0.3488\n",
      "Epoch 8/20\n",
      "99/99 [==============================] - 56s 564ms/step - loss: 1.6080 - accuracy: 0.3856 - val_loss: 1.6773 - val_accuracy: 0.3445\n",
      "Epoch 9/20\n",
      "99/99 [==============================] - 58s 585ms/step - loss: 1.5813 - accuracy: 0.3865 - val_loss: 1.5905 - val_accuracy: 0.3884\n",
      "Epoch 10/20\n",
      "99/99 [==============================] - 57s 582ms/step - loss: 1.5915 - accuracy: 0.3865 - val_loss: 1.6489 - val_accuracy: 0.3467\n",
      "Epoch 11/20\n",
      "99/99 [==============================] - 55s 559ms/step - loss: 1.5683 - accuracy: 0.4036 - val_loss: 1.5771 - val_accuracy: 0.4127\n",
      "Epoch 12/20\n",
      "99/99 [==============================] - 56s 565ms/step - loss: 1.5431 - accuracy: 0.4166 - val_loss: 1.6529 - val_accuracy: 0.3944\n",
      "Epoch 13/20\n",
      "99/99 [==============================] - 60s 603ms/step - loss: 1.5153 - accuracy: 0.4220 - val_loss: 1.7171 - val_accuracy: 0.3393\n",
      "Epoch 14/20\n",
      "99/99 [==============================] - 56s 565ms/step - loss: 1.5228 - accuracy: 0.4274 - val_loss: 1.8616 - val_accuracy: 0.2976\n",
      "Epoch 15/20\n",
      "99/99 [==============================] - 57s 577ms/step - loss: 1.5072 - accuracy: 0.4277 - val_loss: 1.6161 - val_accuracy: 0.3983\n",
      "Epoch 16/20\n",
      "99/99 [==============================] - 57s 580ms/step - loss: 1.4696 - accuracy: 0.4495 - val_loss: 1.5607 - val_accuracy: 0.4153\n",
      "Epoch 17/20\n",
      "99/99 [==============================] - 57s 570ms/step - loss: 1.4384 - accuracy: 0.4644 - val_loss: 1.5579 - val_accuracy: 0.4010\n",
      "Epoch 18/20\n",
      "99/99 [==============================] - 57s 571ms/step - loss: 1.4658 - accuracy: 0.4359 - val_loss: 1.7004 - val_accuracy: 0.3510\n",
      "Epoch 19/20\n",
      "99/99 [==============================] - 58s 582ms/step - loss: 1.4636 - accuracy: 0.4372 - val_loss: 1.5789 - val_accuracy: 0.4036\n",
      "Epoch 20/20\n",
      "99/99 [==============================] - 56s 562ms/step - loss: 1.4293 - accuracy: 0.4695 - val_loss: 1.6099 - val_accuracy: 0.3788\n"
     ]
    },
    {
     "data": {
      "text/plain": [
       "<keras.src.callbacks.History at 0x7f23741257b0>"
      ]
     },
     "execution_count": 19,
     "metadata": {},
     "output_type": "execute_result"
    }
   ],
   "source": [
    "model.fit(train_generator, epochs=20, validation_data=test_generator)"
   ]
  },
  {
   "cell_type": "code",
   "execution_count": null,
   "id": "5a26c2ca-962e-4ad3-bd1e-429842260fa5",
   "metadata": {
    "id": "5a26c2ca-962e-4ad3-bd1e-429842260fa5"
   },
   "outputs": [],
   "source": []
  },
  {
   "cell_type": "code",
   "execution_count": 20,
   "id": "f4420af1-98f8-4ca7-9d19-8426dd1f7195",
   "metadata": {
    "id": "f4420af1-98f8-4ca7-9d19-8426dd1f7195"
   },
   "outputs": [],
   "source": [
    "model.save(\"VGG.keras\")"
   ]
  }
 ],
 "metadata": {
  "accelerator": "GPU",
  "colab": {
   "gpuType": "T4",
   "provenance": []
  },
  "kernelspec": {
   "display_name": "Python 3 (ipykernel)",
   "language": "python",
   "name": "python3"
  },
  "language_info": {
   "codemirror_mode": {
    "name": "ipython",
    "version": 3
   },
   "file_extension": ".py",
   "mimetype": "text/x-python",
   "name": "python",
   "nbconvert_exporter": "python",
   "pygments_lexer": "ipython3",
   "version": "3.11.4"
  }
 },
 "nbformat": 4,
 "nbformat_minor": 5
}
